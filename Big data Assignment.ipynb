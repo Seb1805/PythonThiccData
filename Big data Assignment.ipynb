{
 "cells": [
  {
   "cell_type": "markdown",
   "metadata": {},
   "source": [
    "**Case: Optimering af Online Retail Platform**\n",
    "\n",
    "Du arbejder som en dataingeniør i en online detailhandelsvirksomhed ved navn \"X,\" der ønsker at forbedre sin kundeservice og salgsstrategi ved at udnytte Big Data. Virksomheden har adgang til en bred vifte af datakilder, herunder transaktionsdata, brugeradfærd på webstedet, sociale mediedata og eksterne markedsdata. Din opgave er at designe og opbygge en mindre Big Data løsning for X.\n"
   ]
  },
  {
   "cell_type": "markdown",
   "metadata": {},
   "source": [
    "1. **Dataindsamling og Opsamling:**\n",
    "   - Design en løsning til at indsamle og opsamle data fra forskellige kilder i realtid, inklusive transaktionsdata, webadfærd og sociale mediedata. Overvej anvendelse af HTTPS (REST), Kafka eller MQTT til dataindsamling.\n",
    "   - Sikkerhedsaspekter er vigtige. Implementer kryptering af data under transport for at beskytte følsomme oplysninger."
   ]
  },
  {
   "cell_type": "code",
   "execution_count": 2,
   "metadata": {},
   "outputs": [],
   "source": [
    "#insert storageDrive.csv to Microsoft Sql Server database\n",
    "\n",
    "import csv\n",
    "import pyodbc\n",
    "import pandas as pd\n",
    "from sqlalchemy import create_engine\n",
    "import urllib\n",
    "\n",
    "df = pd.read_csv('walmart.csv')\n",
    "#Print available drivers\n",
    "#print(pyodbc.drivers())\n",
    "\n",
    "import urllib\n",
    "\n",
    "params = urllib.parse.quote_plus(\"DRIVER={ODBC Driver 17 for SQL Server};SERVER=tcp:nextchsolutions.database.windows.net,1433;DATABASE=NexTechSolutions;UID=ktfs;PWD=Password1!;Encrypt=yes;TrustServerCertificate=no;Connection Timeout=60;\")\n",
    "engine = create_engine(\"mssql+pyodbc:///?odbc_connect=%s\" % params,fast_executemany=True)"
   ]
  },
  {
   "cell_type": "code",
   "execution_count": 3,
   "metadata": {},
   "outputs": [
    {
     "data": {
      "text/plain": [
       "-1"
      ]
     },
     "execution_count": 3,
     "metadata": {},
     "output_type": "execute_result"
    }
   ],
   "source": [
    "#Put the 'raw data' into a SQL database\n",
    "df.to_sql('WalmartDb', engine, if_exists='append', index=False)"
   ]
  },
  {
   "cell_type": "markdown",
   "metadata": {},
   "source": [
    "2. **Dataforberedelse og Transformation:**\n",
    "   - Opbyg en pipeline til at rengøre, strukturere og forberede data til analyse. Dette inkluderer valg af filformater som CSV, XML, HDF5 osv.\n",
    "   - Håndter forskellige datatyper, herunder struktureret og ustruktureret data."
   ]
  },
  {
   "cell_type": "code",
   "execution_count": 12,
   "metadata": {},
   "outputs": [
    {
     "name": "stderr",
     "output_type": "stream",
     "text": [
      "usage: ipykernel_launcher.py [--local-scheduler] [--module CORE_MODULE]\n",
      "                             [--help] [--help-all]\n",
      "                             [Required root task]\n",
      "ipykernel_launcher.py: error: unrecognized arguments: --ip=127.0.0.1 --stdin=9003 --control=9001 --hb=9000 --Session.signature_scheme=\"hmac-sha256\" --Session.key=b\"be2f6099-0975-4e01-9839-15e394fa0667\" --shell=9002 --transport=\"tcp\" --iopub=9004 --f=c:\\Users\\ssc\\AppData\\Roaming\\jupyter\\runtime\\kernel-v2-25400Nj9z2BFN3RsJ.json\n"
     ]
    },
    {
     "ename": "SystemExit",
     "evalue": "2",
     "output_type": "error",
     "traceback": [
      "An exception has occurred, use %tb to see the full traceback.\n",
      "\u001b[1;31mSystemExit\u001b[0m\u001b[1;31m:\u001b[0m 2\n"
     ]
    },
    {
     "name": "stderr",
     "output_type": "stream",
     "text": [
      "c:\\Users\\ssc\\AppData\\Local\\Programs\\Python\\Python310\\lib\\site-packages\\IPython\\core\\interactiveshell.py:3377: UserWarning: To exit: use 'exit', 'quit', or Ctrl-D.\n",
      "  warn(\"To exit: use 'exit', 'quit', or Ctrl-D.\", stacklevel=1)\n"
     ]
    }
   ],
   "source": [
    "import luigi\n",
    "import pyodbc\n",
    "import pandas as pd\n",
    "import csv\n",
    "import luigi\n",
    "\n",
    "class ExtractDataTask(luigi.Task):\n",
    "    def run(self):\n",
    "        # Set up the connection to the SQL Server database\n",
    "        conn_str = 'DRIVER={ODBC Driver 17 for SQL Server};SERVER=tcp:nextchsolutions.database.windows.net,1433;DATABASE=NexTechSolutions;UID=ktfs;PWD=Password1!;Encrypt=yes;TrustServerCertificate=no;Connection Timeout=60;'\n",
    "        conn = pyodbc.connect(conn_str)\n",
    "        print(\"Extracting the data..\")\n",
    "        # Define the SQL query\n",
    "        query = '''\n",
    "            SELECT * FROM WalmartDb\n",
    "        '''\n",
    "\n",
    "        # Execute the query and fetch the results into a pandas DataFrame\n",
    "        df = pd.read_sql(query, conn)\n",
    "        df.to_csv('walmart_extracted.csv', index=False)\n",
    "        # Close the database connection\n",
    "        conn.close()\n",
    "\n",
    "    def output(self):\n",
    "        return luigi.LocalTarget('walmart_extracted.csv')\n",
    "\n",
    "\n",
    "class TransformDataTask(luigi.Task):\n",
    "    def requires(self):\n",
    "        return ExtractDataTask()\n",
    "\n",
    "    def run(self):\n",
    "        input_file = self.input().path\n",
    "        df = pd.read_csv(input_file)\n",
    "        df = df.drop_duplicates()\n",
    "        df = df.dropna()\n",
    "        df.to_csv('walmart_transformed.csv', index=False)\n",
    "\n",
    "    def output(self):\n",
    "        return luigi.LocalTarget('walmart_transformed.csv')\n",
    "\n",
    "\n",
    "class LoadDataTask(luigi.Task):\n",
    "    def requires(self):\n",
    "        return TransformDataTask()\n",
    "\n",
    "    def run(self):\n",
    "        input_file = self.input().path\n",
    "        with open(input_file, 'r') as file:\n",
    "            data = [row for row in csv.reader(file)]\n",
    "\n",
    "        with open('walmart_clean.csv', 'w', newline='') as file:\n",
    "            writer = csv.writer(file)\n",
    "            writer.writerows(data)\n",
    "\n",
    "    def output(self):\n",
    "        return luigi.LocalTarget('walmart_clean.csv')\n",
    "\n",
    "\n",
    "class MyPipeline(luigi.WrapperTask):\n",
    "    def requires(self):\n",
    "        return LoadDataTask()\n",
    "\n",
    "\n",
    "# if __name__ == '__main__':\n",
    "luigi.run(main_task_cls=MyPipeline, local_scheduler=True)\n"
   ]
  },
  {
   "cell_type": "markdown",
   "metadata": {},
   "source": [
    "3. **Analyse og Præsentation:**\n",
    "   - Anvend dataanalyseværktøjer og teknikker til at trække indsigt fra de forberedte data.\n",
    "   - Design dashboards eller rapporter for at give virksomhedens beslutningstagere nem adgang til relevante oplysninger."
   ]
  },
  {
   "cell_type": "markdown",
   "metadata": {},
   "source": [
    "4. **Sikkerhed og Overholdelse:**\n",
    "   - Implementer omfattende sikkerhedsforanstaltninger for at beskytte data mod uautoriseret adgang og misbrug.\n",
    "   - Overhold databeskyttelsesregler, især GDPR, når du håndterer brugerdata."
   ]
  },
  {
   "cell_type": "markdown",
   "metadata": {},
   "source": [
    "5. **Skalering og Optimering:**\n",
    "   - Overvej hvordan løsningen kan skaleres i fremtiden med virksomhedens vækst og øgede datamængder.\n",
    "   - Identificer muligheder for ydeevneoptimering."
   ]
  },
  {
   "cell_type": "markdown",
   "metadata": {},
   "source": [
    "Din Big Data løsning skal hjælpe RetailX med at træffe informerede beslutninger, forbedre kundeservicen og optimere salgsstrategien ved at udnytte de enorme datamængder, der er tilgængelige. Din evne til at integrere dataindsamling, forberedelse, analyse og sikkerhed vil være afgørende for succes i denne opgave."
   ]
  }
 ],
 "metadata": {
  "kernelspec": {
   "display_name": "Python 3",
   "language": "python",
   "name": "python3"
  },
  "language_info": {
   "codemirror_mode": {
    "name": "ipython",
    "version": 3
   },
   "file_extension": ".py",
   "mimetype": "text/x-python",
   "name": "python",
   "nbconvert_exporter": "python",
   "pygments_lexer": "ipython3",
   "version": "3.10.5"
  },
  "orig_nbformat": 4
 },
 "nbformat": 4,
 "nbformat_minor": 2
}
